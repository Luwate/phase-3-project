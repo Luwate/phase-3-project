{
 "cells": [
  {
   "cell_type": "code",
   "execution_count": 207,
   "metadata": {},
   "outputs": [],
   "source": [
    "import pandas as pd\n",
    "import numpy as np"
   ]
  },
  {
   "cell_type": "code",
   "execution_count": 208,
   "metadata": {},
   "outputs": [],
   "source": [
    "data =  pd.read_csv(\"data/Traffic_Crashes_-_Crashes_20241208.csv\")"
   ]
  },
  {
   "cell_type": "code",
   "execution_count": 209,
   "metadata": {},
   "outputs": [
    {
     "data": {
      "text/html": [
       "<div>\n",
       "<style scoped>\n",
       "    .dataframe tbody tr th:only-of-type {\n",
       "        vertical-align: middle;\n",
       "    }\n",
       "\n",
       "    .dataframe tbody tr th {\n",
       "        vertical-align: top;\n",
       "    }\n",
       "\n",
       "    .dataframe thead th {\n",
       "        text-align: right;\n",
       "    }\n",
       "</style>\n",
       "<table border=\"1\" class=\"dataframe\">\n",
       "  <thead>\n",
       "    <tr style=\"text-align: right;\">\n",
       "      <th></th>\n",
       "      <th>CRASH_RECORD_ID</th>\n",
       "      <th>CRASH_DATE_EST_I</th>\n",
       "      <th>CRASH_DATE</th>\n",
       "      <th>POSTED_SPEED_LIMIT</th>\n",
       "      <th>TRAFFIC_CONTROL_DEVICE</th>\n",
       "      <th>DEVICE_CONDITION</th>\n",
       "      <th>WEATHER_CONDITION</th>\n",
       "      <th>LIGHTING_CONDITION</th>\n",
       "      <th>FIRST_CRASH_TYPE</th>\n",
       "      <th>TRAFFICWAY_TYPE</th>\n",
       "      <th>...</th>\n",
       "      <th>INJURIES_NON_INCAPACITATING</th>\n",
       "      <th>INJURIES_REPORTED_NOT_EVIDENT</th>\n",
       "      <th>INJURIES_NO_INDICATION</th>\n",
       "      <th>INJURIES_UNKNOWN</th>\n",
       "      <th>CRASH_HOUR</th>\n",
       "      <th>CRASH_DAY_OF_WEEK</th>\n",
       "      <th>CRASH_MONTH</th>\n",
       "      <th>LATITUDE</th>\n",
       "      <th>LONGITUDE</th>\n",
       "      <th>LOCATION</th>\n",
       "    </tr>\n",
       "  </thead>\n",
       "  <tbody>\n",
       "    <tr>\n",
       "      <th>0</th>\n",
       "      <td>23a79931ef555d54118f64dc9be2cf2dbf59636ce253f7...</td>\n",
       "      <td>NaN</td>\n",
       "      <td>09/05/2023 07:05:00 PM</td>\n",
       "      <td>30</td>\n",
       "      <td>TRAFFIC SIGNAL</td>\n",
       "      <td>FUNCTIONING PROPERLY</td>\n",
       "      <td>CLEAR</td>\n",
       "      <td>DUSK</td>\n",
       "      <td>ANGLE</td>\n",
       "      <td>FIVE POINT, OR MORE</td>\n",
       "      <td>...</td>\n",
       "      <td>2.0</td>\n",
       "      <td>0.0</td>\n",
       "      <td>2.0</td>\n",
       "      <td>0.0</td>\n",
       "      <td>19</td>\n",
       "      <td>3</td>\n",
       "      <td>9</td>\n",
       "      <td>NaN</td>\n",
       "      <td>NaN</td>\n",
       "      <td>NaN</td>\n",
       "    </tr>\n",
       "    <tr>\n",
       "      <th>1</th>\n",
       "      <td>2675c13fd0f474d730a5b780968b3cafc7c12d7adb661f...</td>\n",
       "      <td>NaN</td>\n",
       "      <td>09/22/2023 06:45:00 PM</td>\n",
       "      <td>50</td>\n",
       "      <td>NO CONTROLS</td>\n",
       "      <td>NO CONTROLS</td>\n",
       "      <td>CLEAR</td>\n",
       "      <td>DARKNESS, LIGHTED ROAD</td>\n",
       "      <td>REAR END</td>\n",
       "      <td>DIVIDED - W/MEDIAN BARRIER</td>\n",
       "      <td>...</td>\n",
       "      <td>0.0</td>\n",
       "      <td>0.0</td>\n",
       "      <td>2.0</td>\n",
       "      <td>0.0</td>\n",
       "      <td>18</td>\n",
       "      <td>6</td>\n",
       "      <td>9</td>\n",
       "      <td>NaN</td>\n",
       "      <td>NaN</td>\n",
       "      <td>NaN</td>\n",
       "    </tr>\n",
       "    <tr>\n",
       "      <th>2</th>\n",
       "      <td>5f54a59fcb087b12ae5b1acff96a3caf4f2d37e79f8db4...</td>\n",
       "      <td>NaN</td>\n",
       "      <td>07/29/2023 02:45:00 PM</td>\n",
       "      <td>30</td>\n",
       "      <td>TRAFFIC SIGNAL</td>\n",
       "      <td>FUNCTIONING PROPERLY</td>\n",
       "      <td>CLEAR</td>\n",
       "      <td>DAYLIGHT</td>\n",
       "      <td>PARKED MOTOR VEHICLE</td>\n",
       "      <td>DIVIDED - W/MEDIAN (NOT RAISED)</td>\n",
       "      <td>...</td>\n",
       "      <td>0.0</td>\n",
       "      <td>0.0</td>\n",
       "      <td>1.0</td>\n",
       "      <td>0.0</td>\n",
       "      <td>14</td>\n",
       "      <td>7</td>\n",
       "      <td>7</td>\n",
       "      <td>41.85412</td>\n",
       "      <td>-87.665902</td>\n",
       "      <td>POINT (-87.665902342962 41.854120262952)</td>\n",
       "    </tr>\n",
       "    <tr>\n",
       "      <th>3</th>\n",
       "      <td>7ebf015016f83d09b321afd671a836d6b148330535d5df...</td>\n",
       "      <td>NaN</td>\n",
       "      <td>08/09/2023 11:00:00 PM</td>\n",
       "      <td>30</td>\n",
       "      <td>NO CONTROLS</td>\n",
       "      <td>NO CONTROLS</td>\n",
       "      <td>CLEAR</td>\n",
       "      <td>DARKNESS, LIGHTED ROAD</td>\n",
       "      <td>SIDESWIPE SAME DIRECTION</td>\n",
       "      <td>NOT DIVIDED</td>\n",
       "      <td>...</td>\n",
       "      <td>0.0</td>\n",
       "      <td>0.0</td>\n",
       "      <td>2.0</td>\n",
       "      <td>0.0</td>\n",
       "      <td>23</td>\n",
       "      <td>4</td>\n",
       "      <td>8</td>\n",
       "      <td>NaN</td>\n",
       "      <td>NaN</td>\n",
       "      <td>NaN</td>\n",
       "    </tr>\n",
       "    <tr>\n",
       "      <th>4</th>\n",
       "      <td>6c1659069e9c6285a650e70d6f9b574ed5f64c12888479...</td>\n",
       "      <td>NaN</td>\n",
       "      <td>08/18/2023 12:50:00 PM</td>\n",
       "      <td>15</td>\n",
       "      <td>OTHER</td>\n",
       "      <td>FUNCTIONING PROPERLY</td>\n",
       "      <td>CLEAR</td>\n",
       "      <td>DAYLIGHT</td>\n",
       "      <td>REAR END</td>\n",
       "      <td>OTHER</td>\n",
       "      <td>...</td>\n",
       "      <td>1.0</td>\n",
       "      <td>0.0</td>\n",
       "      <td>1.0</td>\n",
       "      <td>0.0</td>\n",
       "      <td>12</td>\n",
       "      <td>6</td>\n",
       "      <td>8</td>\n",
       "      <td>NaN</td>\n",
       "      <td>NaN</td>\n",
       "      <td>NaN</td>\n",
       "    </tr>\n",
       "  </tbody>\n",
       "</table>\n",
       "<p>5 rows × 48 columns</p>\n",
       "</div>"
      ],
      "text/plain": [
       "                                     CRASH_RECORD_ID CRASH_DATE_EST_I  \\\n",
       "0  23a79931ef555d54118f64dc9be2cf2dbf59636ce253f7...              NaN   \n",
       "1  2675c13fd0f474d730a5b780968b3cafc7c12d7adb661f...              NaN   \n",
       "2  5f54a59fcb087b12ae5b1acff96a3caf4f2d37e79f8db4...              NaN   \n",
       "3  7ebf015016f83d09b321afd671a836d6b148330535d5df...              NaN   \n",
       "4  6c1659069e9c6285a650e70d6f9b574ed5f64c12888479...              NaN   \n",
       "\n",
       "               CRASH_DATE  POSTED_SPEED_LIMIT TRAFFIC_CONTROL_DEVICE  \\\n",
       "0  09/05/2023 07:05:00 PM                  30         TRAFFIC SIGNAL   \n",
       "1  09/22/2023 06:45:00 PM                  50            NO CONTROLS   \n",
       "2  07/29/2023 02:45:00 PM                  30         TRAFFIC SIGNAL   \n",
       "3  08/09/2023 11:00:00 PM                  30            NO CONTROLS   \n",
       "4  08/18/2023 12:50:00 PM                  15                  OTHER   \n",
       "\n",
       "       DEVICE_CONDITION WEATHER_CONDITION      LIGHTING_CONDITION  \\\n",
       "0  FUNCTIONING PROPERLY             CLEAR                    DUSK   \n",
       "1           NO CONTROLS             CLEAR  DARKNESS, LIGHTED ROAD   \n",
       "2  FUNCTIONING PROPERLY             CLEAR                DAYLIGHT   \n",
       "3           NO CONTROLS             CLEAR  DARKNESS, LIGHTED ROAD   \n",
       "4  FUNCTIONING PROPERLY             CLEAR                DAYLIGHT   \n",
       "\n",
       "           FIRST_CRASH_TYPE                  TRAFFICWAY_TYPE  ...  \\\n",
       "0                     ANGLE              FIVE POINT, OR MORE  ...   \n",
       "1                  REAR END       DIVIDED - W/MEDIAN BARRIER  ...   \n",
       "2      PARKED MOTOR VEHICLE  DIVIDED - W/MEDIAN (NOT RAISED)  ...   \n",
       "3  SIDESWIPE SAME DIRECTION                      NOT DIVIDED  ...   \n",
       "4                  REAR END                            OTHER  ...   \n",
       "\n",
       "   INJURIES_NON_INCAPACITATING INJURIES_REPORTED_NOT_EVIDENT  \\\n",
       "0                          2.0                           0.0   \n",
       "1                          0.0                           0.0   \n",
       "2                          0.0                           0.0   \n",
       "3                          0.0                           0.0   \n",
       "4                          1.0                           0.0   \n",
       "\n",
       "  INJURIES_NO_INDICATION INJURIES_UNKNOWN CRASH_HOUR CRASH_DAY_OF_WEEK  \\\n",
       "0                    2.0              0.0         19                 3   \n",
       "1                    2.0              0.0         18                 6   \n",
       "2                    1.0              0.0         14                 7   \n",
       "3                    2.0              0.0         23                 4   \n",
       "4                    1.0              0.0         12                 6   \n",
       "\n",
       "  CRASH_MONTH  LATITUDE  LONGITUDE                                  LOCATION  \n",
       "0           9       NaN        NaN                                       NaN  \n",
       "1           9       NaN        NaN                                       NaN  \n",
       "2           7  41.85412 -87.665902  POINT (-87.665902342962 41.854120262952)  \n",
       "3           8       NaN        NaN                                       NaN  \n",
       "4           8       NaN        NaN                                       NaN  \n",
       "\n",
       "[5 rows x 48 columns]"
      ]
     },
     "execution_count": 209,
     "metadata": {},
     "output_type": "execute_result"
    }
   ],
   "source": [
    "data.head()"
   ]
  },
  {
   "cell_type": "code",
   "execution_count": 210,
   "metadata": {},
   "outputs": [
    {
     "data": {
      "text/plain": [
       "Index(['CRASH_RECORD_ID', 'CRASH_DATE_EST_I', 'CRASH_DATE',\n",
       "       'POSTED_SPEED_LIMIT', 'TRAFFIC_CONTROL_DEVICE', 'DEVICE_CONDITION',\n",
       "       'WEATHER_CONDITION', 'LIGHTING_CONDITION', 'FIRST_CRASH_TYPE',\n",
       "       'TRAFFICWAY_TYPE', 'LANE_CNT', 'ALIGNMENT', 'ROADWAY_SURFACE_COND',\n",
       "       'ROAD_DEFECT', 'REPORT_TYPE', 'CRASH_TYPE', 'INTERSECTION_RELATED_I',\n",
       "       'NOT_RIGHT_OF_WAY_I', 'HIT_AND_RUN_I', 'DAMAGE', 'DATE_POLICE_NOTIFIED',\n",
       "       'PRIM_CONTRIBUTORY_CAUSE', 'SEC_CONTRIBUTORY_CAUSE', 'STREET_NO',\n",
       "       'STREET_DIRECTION', 'STREET_NAME', 'BEAT_OF_OCCURRENCE',\n",
       "       'PHOTOS_TAKEN_I', 'STATEMENTS_TAKEN_I', 'DOORING_I', 'WORK_ZONE_I',\n",
       "       'WORK_ZONE_TYPE', 'WORKERS_PRESENT_I', 'NUM_UNITS',\n",
       "       'MOST_SEVERE_INJURY', 'INJURIES_TOTAL', 'INJURIES_FATAL',\n",
       "       'INJURIES_INCAPACITATING', 'INJURIES_NON_INCAPACITATING',\n",
       "       'INJURIES_REPORTED_NOT_EVIDENT', 'INJURIES_NO_INDICATION',\n",
       "       'INJURIES_UNKNOWN', 'CRASH_HOUR', 'CRASH_DAY_OF_WEEK', 'CRASH_MONTH',\n",
       "       'LATITUDE', 'LONGITUDE', 'LOCATION'],\n",
       "      dtype='object')"
      ]
     },
     "execution_count": 210,
     "metadata": {},
     "output_type": "execute_result"
    }
   ],
   "source": [
    "data.columns"
   ]
  },
  {
   "cell_type": "code",
   "execution_count": 211,
   "metadata": {},
   "outputs": [
    {
     "name": "stdout",
     "output_type": "stream",
     "text": [
      "<class 'pandas.core.frame.DataFrame'>\n",
      "RangeIndex: 899390 entries, 0 to 899389\n",
      "Data columns (total 48 columns):\n",
      " #   Column                         Non-Null Count   Dtype  \n",
      "---  ------                         --------------   -----  \n",
      " 0   CRASH_RECORD_ID                899390 non-null  object \n",
      " 1   CRASH_DATE_EST_I               66375 non-null   object \n",
      " 2   CRASH_DATE                     899390 non-null  object \n",
      " 3   POSTED_SPEED_LIMIT             899390 non-null  int64  \n",
      " 4   TRAFFIC_CONTROL_DEVICE         899390 non-null  object \n",
      " 5   DEVICE_CONDITION               899390 non-null  object \n",
      " 6   WEATHER_CONDITION              899390 non-null  object \n",
      " 7   LIGHTING_CONDITION             899390 non-null  object \n",
      " 8   FIRST_CRASH_TYPE               899390 non-null  object \n",
      " 9   TRAFFICWAY_TYPE                899390 non-null  object \n",
      " 10  LANE_CNT                       199021 non-null  float64\n",
      " 11  ALIGNMENT                      899390 non-null  object \n",
      " 12  ROADWAY_SURFACE_COND           899390 non-null  object \n",
      " 13  ROAD_DEFECT                    899390 non-null  object \n",
      " 14  REPORT_TYPE                    871442 non-null  object \n",
      " 15  CRASH_TYPE                     899390 non-null  object \n",
      " 16  INTERSECTION_RELATED_I         206551 non-null  object \n",
      " 17  NOT_RIGHT_OF_WAY_I             40953 non-null   object \n",
      " 18  HIT_AND_RUN_I                  282062 non-null  object \n",
      " 19  DAMAGE                         899390 non-null  object \n",
      " 20  DATE_POLICE_NOTIFIED           899390 non-null  object \n",
      " 21  PRIM_CONTRIBUTORY_CAUSE        899390 non-null  object \n",
      " 22  SEC_CONTRIBUTORY_CAUSE         899390 non-null  object \n",
      " 23  STREET_NO                      899390 non-null  int64  \n",
      " 24  STREET_DIRECTION               899386 non-null  object \n",
      " 25  STREET_NAME                    899389 non-null  object \n",
      " 26  BEAT_OF_OCCURRENCE             899385 non-null  float64\n",
      " 27  PHOTOS_TAKEN_I                 12292 non-null   object \n",
      " 28  STATEMENTS_TAKEN_I             20683 non-null   object \n",
      " 29  DOORING_I                      2849 non-null    object \n",
      " 30  WORK_ZONE_I                    5027 non-null    object \n",
      " 31  WORK_ZONE_TYPE                 3882 non-null    object \n",
      " 32  WORKERS_PRESENT_I              1296 non-null    object \n",
      " 33  NUM_UNITS                      899384 non-null  float64\n",
      " 34  MOST_SEVERE_INJURY             897394 non-null  object \n",
      " 35  INJURIES_TOTAL                 897408 non-null  float64\n",
      " 36  INJURIES_FATAL                 897408 non-null  float64\n",
      " 37  INJURIES_INCAPACITATING        897408 non-null  float64\n",
      " 38  INJURIES_NON_INCAPACITATING    897408 non-null  float64\n",
      " 39  INJURIES_REPORTED_NOT_EVIDENT  897408 non-null  float64\n",
      " 40  INJURIES_NO_INDICATION         897408 non-null  float64\n",
      " 41  INJURIES_UNKNOWN               897408 non-null  float64\n",
      " 42  CRASH_HOUR                     899390 non-null  int64  \n",
      " 43  CRASH_DAY_OF_WEEK              899390 non-null  int64  \n",
      " 44  CRASH_MONTH                    899390 non-null  int64  \n",
      " 45  LATITUDE                       892887 non-null  float64\n",
      " 46  LONGITUDE                      892887 non-null  float64\n",
      " 47  LOCATION                       892887 non-null  object \n",
      "dtypes: float64(12), int64(5), object(31)\n",
      "memory usage: 329.4+ MB\n"
     ]
    }
   ],
   "source": [
    "data.info()"
   ]
  },
  {
   "cell_type": "code",
   "execution_count": 212,
   "metadata": {},
   "outputs": [
    {
     "data": {
      "text/plain": [
       "np.float64(0.0)"
      ]
     },
     "execution_count": 212,
     "metadata": {},
     "output_type": "execute_result"
    }
   ],
   "source": [
    "data.duplicated().mean()"
   ]
  },
  {
   "cell_type": "code",
   "execution_count": 213,
   "metadata": {},
   "outputs": [
    {
     "data": {
      "text/plain": [
       "WORKERS_PRESENT_I                0.998559\n",
       "DOORING_I                        0.996832\n",
       "WORK_ZONE_TYPE                   0.995684\n",
       "WORK_ZONE_I                      0.994411\n",
       "PHOTOS_TAKEN_I                   0.986333\n",
       "STATEMENTS_TAKEN_I               0.977003\n",
       "NOT_RIGHT_OF_WAY_I               0.954466\n",
       "CRASH_DATE_EST_I                 0.926200\n",
       "LANE_CNT                         0.778716\n",
       "INTERSECTION_RELATED_I           0.770343\n",
       "HIT_AND_RUN_I                    0.686385\n",
       "REPORT_TYPE                      0.031074\n",
       "LOCATION                         0.007230\n",
       "LATITUDE                         0.007230\n",
       "LONGITUDE                        0.007230\n",
       "MOST_SEVERE_INJURY               0.002219\n",
       "INJURIES_TOTAL                   0.002204\n",
       "INJURIES_FATAL                   0.002204\n",
       "INJURIES_INCAPACITATING          0.002204\n",
       "INJURIES_NON_INCAPACITATING      0.002204\n",
       "INJURIES_REPORTED_NOT_EVIDENT    0.002204\n",
       "INJURIES_NO_INDICATION           0.002204\n",
       "INJURIES_UNKNOWN                 0.002204\n",
       "NUM_UNITS                        0.000007\n",
       "BEAT_OF_OCCURRENCE               0.000006\n",
       "STREET_DIRECTION                 0.000004\n",
       "STREET_NAME                      0.000001\n",
       "STREET_NO                        0.000000\n",
       "CRASH_DATE                       0.000000\n",
       "POSTED_SPEED_LIMIT               0.000000\n",
       "CRASH_MONTH                      0.000000\n",
       "CRASH_DAY_OF_WEEK                0.000000\n",
       "CRASH_HOUR                       0.000000\n",
       "TRAFFIC_CONTROL_DEVICE           0.000000\n",
       "DEVICE_CONDITION                 0.000000\n",
       "WEATHER_CONDITION                0.000000\n",
       "LIGHTING_CONDITION               0.000000\n",
       "FIRST_CRASH_TYPE                 0.000000\n",
       "TRAFFICWAY_TYPE                  0.000000\n",
       "ALIGNMENT                        0.000000\n",
       "ROADWAY_SURFACE_COND             0.000000\n",
       "ROAD_DEFECT                      0.000000\n",
       "CRASH_TYPE                       0.000000\n",
       "DAMAGE                           0.000000\n",
       "DATE_POLICE_NOTIFIED             0.000000\n",
       "PRIM_CONTRIBUTORY_CAUSE          0.000000\n",
       "SEC_CONTRIBUTORY_CAUSE           0.000000\n",
       "CRASH_RECORD_ID                  0.000000\n",
       "dtype: float64"
      ]
     },
     "execution_count": 213,
     "metadata": {},
     "output_type": "execute_result"
    }
   ],
   "source": [
    "data.isna().mean().sort_values(ascending=False)"
   ]
  },
  {
   "cell_type": "code",
   "execution_count": 214,
   "metadata": {},
   "outputs": [],
   "source": [
    "data = data.drop(columns=['WORKERS_PRESENT_I', 'DOORING_I', 'WORK_ZONE_TYPE', 'WORK_ZONE_I', 'PHOTOS_TAKEN_I', 'STATEMENTS_TAKEN_I', \n",
    "                          'NOT_RIGHT_OF_WAY_I', 'CRASH_DATE_EST_I', 'LANE_CNT', 'INTERSECTION_RELATED_I', 'HIT_AND_RUN_I', \n",
    "                          'CRASH_RECORD_ID', 'REPORT_TYPE'], axis = 1)"
   ]
  },
  {
   "cell_type": "code",
   "execution_count": 215,
   "metadata": {},
   "outputs": [
    {
     "data": {
      "text/plain": [
       "LOCATION                         0.007230\n",
       "LONGITUDE                        0.007230\n",
       "LATITUDE                         0.007230\n",
       "MOST_SEVERE_INJURY               0.002219\n",
       "INJURIES_UNKNOWN                 0.002204\n",
       "INJURIES_NO_INDICATION           0.002204\n",
       "INJURIES_REPORTED_NOT_EVIDENT    0.002204\n",
       "INJURIES_NON_INCAPACITATING      0.002204\n",
       "INJURIES_INCAPACITATING          0.002204\n",
       "INJURIES_FATAL                   0.002204\n",
       "INJURIES_TOTAL                   0.002204\n",
       "NUM_UNITS                        0.000007\n",
       "BEAT_OF_OCCURRENCE               0.000006\n",
       "STREET_DIRECTION                 0.000004\n",
       "STREET_NAME                      0.000001\n",
       "PRIM_CONTRIBUTORY_CAUSE          0.000000\n",
       "TRAFFICWAY_TYPE                  0.000000\n",
       "TRAFFIC_CONTROL_DEVICE           0.000000\n",
       "DEVICE_CONDITION                 0.000000\n",
       "CRASH_MONTH                      0.000000\n",
       "CRASH_DAY_OF_WEEK                0.000000\n",
       "CRASH_HOUR                       0.000000\n",
       "WEATHER_CONDITION                0.000000\n",
       "LIGHTING_CONDITION               0.000000\n",
       "FIRST_CRASH_TYPE                 0.000000\n",
       "ALIGNMENT                        0.000000\n",
       "SEC_CONTRIBUTORY_CAUSE           0.000000\n",
       "ROADWAY_SURFACE_COND             0.000000\n",
       "ROAD_DEFECT                      0.000000\n",
       "CRASH_TYPE                       0.000000\n",
       "DAMAGE                           0.000000\n",
       "DATE_POLICE_NOTIFIED             0.000000\n",
       "POSTED_SPEED_LIMIT               0.000000\n",
       "STREET_NO                        0.000000\n",
       "CRASH_DATE                       0.000000\n",
       "dtype: float64"
      ]
     },
     "execution_count": 215,
     "metadata": {},
     "output_type": "execute_result"
    }
   ],
   "source": [
    "data.isna().mean().sort_values(ascending=False)"
   ]
  },
  {
   "cell_type": "code",
   "execution_count": 216,
   "metadata": {},
   "outputs": [
    {
     "data": {
      "text/plain": [
       "Index(['CRASH_DATE', 'POSTED_SPEED_LIMIT', 'TRAFFIC_CONTROL_DEVICE',\n",
       "       'DEVICE_CONDITION', 'WEATHER_CONDITION', 'LIGHTING_CONDITION',\n",
       "       'FIRST_CRASH_TYPE', 'TRAFFICWAY_TYPE', 'ALIGNMENT',\n",
       "       'ROADWAY_SURFACE_COND', 'ROAD_DEFECT', 'CRASH_TYPE', 'DAMAGE',\n",
       "       'DATE_POLICE_NOTIFIED', 'PRIM_CONTRIBUTORY_CAUSE',\n",
       "       'SEC_CONTRIBUTORY_CAUSE', 'STREET_NO', 'STREET_DIRECTION',\n",
       "       'STREET_NAME', 'BEAT_OF_OCCURRENCE', 'NUM_UNITS', 'MOST_SEVERE_INJURY',\n",
       "       'INJURIES_TOTAL', 'INJURIES_FATAL', 'INJURIES_INCAPACITATING',\n",
       "       'INJURIES_NON_INCAPACITATING', 'INJURIES_REPORTED_NOT_EVIDENT',\n",
       "       'INJURIES_NO_INDICATION', 'INJURIES_UNKNOWN', 'CRASH_HOUR',\n",
       "       'CRASH_DAY_OF_WEEK', 'CRASH_MONTH', 'LATITUDE', 'LONGITUDE',\n",
       "       'LOCATION'],\n",
       "      dtype='object')"
      ]
     },
     "execution_count": 216,
     "metadata": {},
     "output_type": "execute_result"
    }
   ],
   "source": [
    "data.columns"
   ]
  },
  {
   "cell_type": "code",
   "execution_count": 59,
   "metadata": {},
   "outputs": [
    {
     "ename": "KeyError",
     "evalue": "'REPORT_TYPE'",
     "output_type": "error",
     "traceback": [
      "\u001b[0;31m---------------------------------------------------------------------------\u001b[0m",
      "\u001b[0;31mKeyError\u001b[0m                                  Traceback (most recent call last)",
      "File \u001b[0;32m/opt/anaconda3/envs/learn-env/lib/python3.9/site-packages/pandas/core/indexes/base.py:3805\u001b[0m, in \u001b[0;36mIndex.get_loc\u001b[0;34m(self, key)\u001b[0m\n\u001b[1;32m   3804\u001b[0m \u001b[38;5;28;01mtry\u001b[39;00m:\n\u001b[0;32m-> 3805\u001b[0m     \u001b[38;5;28;01mreturn\u001b[39;00m \u001b[38;5;28;43mself\u001b[39;49m\u001b[38;5;241;43m.\u001b[39;49m\u001b[43m_engine\u001b[49m\u001b[38;5;241;43m.\u001b[39;49m\u001b[43mget_loc\u001b[49m\u001b[43m(\u001b[49m\u001b[43mcasted_key\u001b[49m\u001b[43m)\u001b[49m\n\u001b[1;32m   3806\u001b[0m \u001b[38;5;28;01mexcept\u001b[39;00m \u001b[38;5;167;01mKeyError\u001b[39;00m \u001b[38;5;28;01mas\u001b[39;00m err:\n",
      "File \u001b[0;32mindex.pyx:167\u001b[0m, in \u001b[0;36mpandas._libs.index.IndexEngine.get_loc\u001b[0;34m()\u001b[0m\n",
      "File \u001b[0;32mindex.pyx:196\u001b[0m, in \u001b[0;36mpandas._libs.index.IndexEngine.get_loc\u001b[0;34m()\u001b[0m\n",
      "File \u001b[0;32mpandas/_libs/hashtable_class_helper.pxi:7081\u001b[0m, in \u001b[0;36mpandas._libs.hashtable.PyObjectHashTable.get_item\u001b[0;34m()\u001b[0m\n",
      "File \u001b[0;32mpandas/_libs/hashtable_class_helper.pxi:7089\u001b[0m, in \u001b[0;36mpandas._libs.hashtable.PyObjectHashTable.get_item\u001b[0;34m()\u001b[0m\n",
      "\u001b[0;31mKeyError\u001b[0m: 'REPORT_TYPE'",
      "\nThe above exception was the direct cause of the following exception:\n",
      "\u001b[0;31mKeyError\u001b[0m                                  Traceback (most recent call last)",
      "Cell \u001b[0;32mIn[59], line 1\u001b[0m\n\u001b[0;32m----> 1\u001b[0m \u001b[43mdata\u001b[49m\u001b[43m[\u001b[49m\u001b[38;5;124;43m'\u001b[39;49m\u001b[38;5;124;43mREPORT_TYPE\u001b[39;49m\u001b[38;5;124;43m'\u001b[39;49m\u001b[43m]\u001b[49m\u001b[38;5;241m.\u001b[39mvalue_counts()\n",
      "File \u001b[0;32m/opt/anaconda3/envs/learn-env/lib/python3.9/site-packages/pandas/core/frame.py:4102\u001b[0m, in \u001b[0;36mDataFrame.__getitem__\u001b[0;34m(self, key)\u001b[0m\n\u001b[1;32m   4100\u001b[0m \u001b[38;5;28;01mif\u001b[39;00m \u001b[38;5;28mself\u001b[39m\u001b[38;5;241m.\u001b[39mcolumns\u001b[38;5;241m.\u001b[39mnlevels \u001b[38;5;241m>\u001b[39m \u001b[38;5;241m1\u001b[39m:\n\u001b[1;32m   4101\u001b[0m     \u001b[38;5;28;01mreturn\u001b[39;00m \u001b[38;5;28mself\u001b[39m\u001b[38;5;241m.\u001b[39m_getitem_multilevel(key)\n\u001b[0;32m-> 4102\u001b[0m indexer \u001b[38;5;241m=\u001b[39m \u001b[38;5;28;43mself\u001b[39;49m\u001b[38;5;241;43m.\u001b[39;49m\u001b[43mcolumns\u001b[49m\u001b[38;5;241;43m.\u001b[39;49m\u001b[43mget_loc\u001b[49m\u001b[43m(\u001b[49m\u001b[43mkey\u001b[49m\u001b[43m)\u001b[49m\n\u001b[1;32m   4103\u001b[0m \u001b[38;5;28;01mif\u001b[39;00m is_integer(indexer):\n\u001b[1;32m   4104\u001b[0m     indexer \u001b[38;5;241m=\u001b[39m [indexer]\n",
      "File \u001b[0;32m/opt/anaconda3/envs/learn-env/lib/python3.9/site-packages/pandas/core/indexes/base.py:3812\u001b[0m, in \u001b[0;36mIndex.get_loc\u001b[0;34m(self, key)\u001b[0m\n\u001b[1;32m   3807\u001b[0m     \u001b[38;5;28;01mif\u001b[39;00m \u001b[38;5;28misinstance\u001b[39m(casted_key, \u001b[38;5;28mslice\u001b[39m) \u001b[38;5;129;01mor\u001b[39;00m (\n\u001b[1;32m   3808\u001b[0m         \u001b[38;5;28misinstance\u001b[39m(casted_key, abc\u001b[38;5;241m.\u001b[39mIterable)\n\u001b[1;32m   3809\u001b[0m         \u001b[38;5;129;01mand\u001b[39;00m \u001b[38;5;28many\u001b[39m(\u001b[38;5;28misinstance\u001b[39m(x, \u001b[38;5;28mslice\u001b[39m) \u001b[38;5;28;01mfor\u001b[39;00m x \u001b[38;5;129;01min\u001b[39;00m casted_key)\n\u001b[1;32m   3810\u001b[0m     ):\n\u001b[1;32m   3811\u001b[0m         \u001b[38;5;28;01mraise\u001b[39;00m InvalidIndexError(key)\n\u001b[0;32m-> 3812\u001b[0m     \u001b[38;5;28;01mraise\u001b[39;00m \u001b[38;5;167;01mKeyError\u001b[39;00m(key) \u001b[38;5;28;01mfrom\u001b[39;00m \u001b[38;5;21;01merr\u001b[39;00m\n\u001b[1;32m   3813\u001b[0m \u001b[38;5;28;01mexcept\u001b[39;00m \u001b[38;5;167;01mTypeError\u001b[39;00m:\n\u001b[1;32m   3814\u001b[0m     \u001b[38;5;66;03m# If we have a listlike key, _check_indexing_error will raise\u001b[39;00m\n\u001b[1;32m   3815\u001b[0m     \u001b[38;5;66;03m#  InvalidIndexError. Otherwise we fall through and re-raise\u001b[39;00m\n\u001b[1;32m   3816\u001b[0m     \u001b[38;5;66;03m#  the TypeError.\u001b[39;00m\n\u001b[1;32m   3817\u001b[0m     \u001b[38;5;28mself\u001b[39m\u001b[38;5;241m.\u001b[39m_check_indexing_error(key)\n",
      "\u001b[0;31mKeyError\u001b[0m: 'REPORT_TYPE'"
     ]
    }
   ],
   "source": [
    "data['REPORT_TYPE'].value_counts()"
   ]
  },
  {
   "cell_type": "code",
   "execution_count": null,
   "metadata": {},
   "outputs": [
    {
     "ename": "TypeError",
     "evalue": "no numeric data to plot",
     "output_type": "error",
     "traceback": [
      "\u001b[0;31m---------------------------------------------------------------------------\u001b[0m",
      "\u001b[0;31mTypeError\u001b[0m                                 Traceback (most recent call last)",
      "Cell \u001b[0;32mIn[9], line 1\u001b[0m\n\u001b[0;32m----> 1\u001b[0m \u001b[43mdata\u001b[49m\u001b[43m[\u001b[49m\u001b[38;5;124;43m'\u001b[39;49m\u001b[38;5;124;43mCRASH_DATE\u001b[39;49m\u001b[38;5;124;43m'\u001b[39;49m\u001b[43m]\u001b[49m\u001b[38;5;241;43m.\u001b[39;49m\u001b[43mplot\u001b[49m\u001b[43m(\u001b[49m\u001b[43mkind\u001b[49m\u001b[38;5;241;43m=\u001b[39;49m\u001b[38;5;124;43m'\u001b[39;49m\u001b[38;5;124;43mhist\u001b[39;49m\u001b[38;5;124;43m'\u001b[39;49m\u001b[43m)\u001b[49m\n",
      "File \u001b[0;32m/opt/anaconda3/envs/learn-env/lib/python3.9/site-packages/pandas/plotting/_core.py:1030\u001b[0m, in \u001b[0;36mPlotAccessor.__call__\u001b[0;34m(self, *args, **kwargs)\u001b[0m\n\u001b[1;32m   1027\u001b[0m             label_name \u001b[38;5;241m=\u001b[39m label_kw \u001b[38;5;129;01mor\u001b[39;00m data\u001b[38;5;241m.\u001b[39mcolumns\n\u001b[1;32m   1028\u001b[0m             data\u001b[38;5;241m.\u001b[39mcolumns \u001b[38;5;241m=\u001b[39m label_name\n\u001b[0;32m-> 1030\u001b[0m \u001b[38;5;28;01mreturn\u001b[39;00m \u001b[43mplot_backend\u001b[49m\u001b[38;5;241;43m.\u001b[39;49m\u001b[43mplot\u001b[49m\u001b[43m(\u001b[49m\u001b[43mdata\u001b[49m\u001b[43m,\u001b[49m\u001b[43m \u001b[49m\u001b[43mkind\u001b[49m\u001b[38;5;241;43m=\u001b[39;49m\u001b[43mkind\u001b[49m\u001b[43m,\u001b[49m\u001b[43m \u001b[49m\u001b[38;5;241;43m*\u001b[39;49m\u001b[38;5;241;43m*\u001b[39;49m\u001b[43mkwargs\u001b[49m\u001b[43m)\u001b[49m\n",
      "File \u001b[0;32m/opt/anaconda3/envs/learn-env/lib/python3.9/site-packages/pandas/plotting/_matplotlib/__init__.py:71\u001b[0m, in \u001b[0;36mplot\u001b[0;34m(data, kind, **kwargs)\u001b[0m\n\u001b[1;32m     69\u001b[0m         kwargs[\u001b[38;5;124m\"\u001b[39m\u001b[38;5;124max\u001b[39m\u001b[38;5;124m\"\u001b[39m] \u001b[38;5;241m=\u001b[39m \u001b[38;5;28mgetattr\u001b[39m(ax, \u001b[38;5;124m\"\u001b[39m\u001b[38;5;124mleft_ax\u001b[39m\u001b[38;5;124m\"\u001b[39m, ax)\n\u001b[1;32m     70\u001b[0m plot_obj \u001b[38;5;241m=\u001b[39m PLOT_CLASSES[kind](data, \u001b[38;5;241m*\u001b[39m\u001b[38;5;241m*\u001b[39mkwargs)\n\u001b[0;32m---> 71\u001b[0m \u001b[43mplot_obj\u001b[49m\u001b[38;5;241;43m.\u001b[39;49m\u001b[43mgenerate\u001b[49m\u001b[43m(\u001b[49m\u001b[43m)\u001b[49m\n\u001b[1;32m     72\u001b[0m plot_obj\u001b[38;5;241m.\u001b[39mdraw()\n\u001b[1;32m     73\u001b[0m \u001b[38;5;28;01mreturn\u001b[39;00m plot_obj\u001b[38;5;241m.\u001b[39mresult\n",
      "File \u001b[0;32m/opt/anaconda3/envs/learn-env/lib/python3.9/site-packages/pandas/plotting/_matplotlib/core.py:499\u001b[0m, in \u001b[0;36mMPLPlot.generate\u001b[0;34m(self)\u001b[0m\n\u001b[1;32m    497\u001b[0m \u001b[38;5;129m@final\u001b[39m\n\u001b[1;32m    498\u001b[0m \u001b[38;5;28;01mdef\u001b[39;00m \u001b[38;5;21mgenerate\u001b[39m(\u001b[38;5;28mself\u001b[39m) \u001b[38;5;241m-\u001b[39m\u001b[38;5;241m>\u001b[39m \u001b[38;5;28;01mNone\u001b[39;00m:\n\u001b[0;32m--> 499\u001b[0m     \u001b[38;5;28;43mself\u001b[39;49m\u001b[38;5;241;43m.\u001b[39;49m\u001b[43m_compute_plot_data\u001b[49m\u001b[43m(\u001b[49m\u001b[43m)\u001b[49m\n\u001b[1;32m    500\u001b[0m     fig \u001b[38;5;241m=\u001b[39m \u001b[38;5;28mself\u001b[39m\u001b[38;5;241m.\u001b[39mfig\n\u001b[1;32m    501\u001b[0m     \u001b[38;5;28mself\u001b[39m\u001b[38;5;241m.\u001b[39m_make_plot(fig)\n",
      "File \u001b[0;32m/opt/anaconda3/envs/learn-env/lib/python3.9/site-packages/pandas/plotting/_matplotlib/core.py:698\u001b[0m, in \u001b[0;36mMPLPlot._compute_plot_data\u001b[0;34m(self)\u001b[0m\n\u001b[1;32m    696\u001b[0m \u001b[38;5;66;03m# no non-numeric frames or series allowed\u001b[39;00m\n\u001b[1;32m    697\u001b[0m \u001b[38;5;28;01mif\u001b[39;00m is_empty:\n\u001b[0;32m--> 698\u001b[0m     \u001b[38;5;28;01mraise\u001b[39;00m \u001b[38;5;167;01mTypeError\u001b[39;00m(\u001b[38;5;124m\"\u001b[39m\u001b[38;5;124mno numeric data to plot\u001b[39m\u001b[38;5;124m\"\u001b[39m)\n\u001b[1;32m    700\u001b[0m \u001b[38;5;28mself\u001b[39m\u001b[38;5;241m.\u001b[39mdata \u001b[38;5;241m=\u001b[39m numeric_data\u001b[38;5;241m.\u001b[39mapply(\u001b[38;5;28mtype\u001b[39m(\u001b[38;5;28mself\u001b[39m)\u001b[38;5;241m.\u001b[39m_convert_to_ndarray)\n",
      "\u001b[0;31mTypeError\u001b[0m: no numeric data to plot"
     ]
    }
   ],
   "source": [
    "data['CRASH_DATE'].plot(kind='hist')"
   ]
  },
  {
   "cell_type": "code",
   "execution_count": 217,
   "metadata": {},
   "outputs": [],
   "source": [
    "data.dropna(inplace=True)"
   ]
  },
  {
   "cell_type": "code",
   "execution_count": 218,
   "metadata": {},
   "outputs": [
    {
     "data": {
      "text/plain": [
       "CRASH_DATE                       0.0\n",
       "INJURIES_REPORTED_NOT_EVIDENT    0.0\n",
       "NUM_UNITS                        0.0\n",
       "MOST_SEVERE_INJURY               0.0\n",
       "INJURIES_TOTAL                   0.0\n",
       "INJURIES_FATAL                   0.0\n",
       "INJURIES_INCAPACITATING          0.0\n",
       "INJURIES_NON_INCAPACITATING      0.0\n",
       "INJURIES_NO_INDICATION           0.0\n",
       "STREET_NAME                      0.0\n",
       "INJURIES_UNKNOWN                 0.0\n",
       "CRASH_HOUR                       0.0\n",
       "CRASH_DAY_OF_WEEK                0.0\n",
       "CRASH_MONTH                      0.0\n",
       "LATITUDE                         0.0\n",
       "LONGITUDE                        0.0\n",
       "BEAT_OF_OCCURRENCE               0.0\n",
       "STREET_DIRECTION                 0.0\n",
       "POSTED_SPEED_LIMIT               0.0\n",
       "ALIGNMENT                        0.0\n",
       "TRAFFIC_CONTROL_DEVICE           0.0\n",
       "DEVICE_CONDITION                 0.0\n",
       "WEATHER_CONDITION                0.0\n",
       "LIGHTING_CONDITION               0.0\n",
       "FIRST_CRASH_TYPE                 0.0\n",
       "TRAFFICWAY_TYPE                  0.0\n",
       "ROADWAY_SURFACE_COND             0.0\n",
       "STREET_NO                        0.0\n",
       "ROAD_DEFECT                      0.0\n",
       "CRASH_TYPE                       0.0\n",
       "DAMAGE                           0.0\n",
       "DATE_POLICE_NOTIFIED             0.0\n",
       "PRIM_CONTRIBUTORY_CAUSE          0.0\n",
       "SEC_CONTRIBUTORY_CAUSE           0.0\n",
       "LOCATION                         0.0\n",
       "dtype: float64"
      ]
     },
     "execution_count": 218,
     "metadata": {},
     "output_type": "execute_result"
    }
   ],
   "source": [
    "data.isna().mean().sort_values(ascending=False)"
   ]
  },
  {
   "cell_type": "code",
   "execution_count": 219,
   "metadata": {},
   "outputs": [
    {
     "name": "stdout",
     "output_type": "stream",
     "text": [
      "<class 'pandas.core.frame.DataFrame'>\n",
      "Index: 890901 entries, 2 to 899389\n",
      "Data columns (total 35 columns):\n",
      " #   Column                         Non-Null Count   Dtype  \n",
      "---  ------                         --------------   -----  \n",
      " 0   CRASH_DATE                     890901 non-null  object \n",
      " 1   POSTED_SPEED_LIMIT             890901 non-null  int64  \n",
      " 2   TRAFFIC_CONTROL_DEVICE         890901 non-null  object \n",
      " 3   DEVICE_CONDITION               890901 non-null  object \n",
      " 4   WEATHER_CONDITION              890901 non-null  object \n",
      " 5   LIGHTING_CONDITION             890901 non-null  object \n",
      " 6   FIRST_CRASH_TYPE               890901 non-null  object \n",
      " 7   TRAFFICWAY_TYPE                890901 non-null  object \n",
      " 8   ALIGNMENT                      890901 non-null  object \n",
      " 9   ROADWAY_SURFACE_COND           890901 non-null  object \n",
      " 10  ROAD_DEFECT                    890901 non-null  object \n",
      " 11  CRASH_TYPE                     890901 non-null  object \n",
      " 12  DAMAGE                         890901 non-null  object \n",
      " 13  DATE_POLICE_NOTIFIED           890901 non-null  object \n",
      " 14  PRIM_CONTRIBUTORY_CAUSE        890901 non-null  object \n",
      " 15  SEC_CONTRIBUTORY_CAUSE         890901 non-null  object \n",
      " 16  STREET_NO                      890901 non-null  int64  \n",
      " 17  STREET_DIRECTION               890901 non-null  object \n",
      " 18  STREET_NAME                    890901 non-null  object \n",
      " 19  BEAT_OF_OCCURRENCE             890901 non-null  float64\n",
      " 20  NUM_UNITS                      890901 non-null  float64\n",
      " 21  MOST_SEVERE_INJURY             890901 non-null  object \n",
      " 22  INJURIES_TOTAL                 890901 non-null  float64\n",
      " 23  INJURIES_FATAL                 890901 non-null  float64\n",
      " 24  INJURIES_INCAPACITATING        890901 non-null  float64\n",
      " 25  INJURIES_NON_INCAPACITATING    890901 non-null  float64\n",
      " 26  INJURIES_REPORTED_NOT_EVIDENT  890901 non-null  float64\n",
      " 27  INJURIES_NO_INDICATION         890901 non-null  float64\n",
      " 28  INJURIES_UNKNOWN               890901 non-null  float64\n",
      " 29  CRASH_HOUR                     890901 non-null  int64  \n",
      " 30  CRASH_DAY_OF_WEEK              890901 non-null  int64  \n",
      " 31  CRASH_MONTH                    890901 non-null  int64  \n",
      " 32  LATITUDE                       890901 non-null  float64\n",
      " 33  LONGITUDE                      890901 non-null  float64\n",
      " 34  LOCATION                       890901 non-null  object \n",
      "dtypes: float64(11), int64(5), object(19)\n",
      "memory usage: 244.7+ MB\n"
     ]
    }
   ],
   "source": [
    "data.info()"
   ]
  },
  {
   "cell_type": "code",
   "execution_count": 220,
   "metadata": {},
   "outputs": [],
   "source": [
    "data['CRASH_DATE'] = pd.to_datetime(data['CRASH_DATE'], format='%m/%d/%Y %H:%M:%S %p')"
   ]
  },
  {
   "cell_type": "code",
   "execution_count": 221,
   "metadata": {},
   "outputs": [
    {
     "name": "stdout",
     "output_type": "stream",
     "text": [
      "--------------------\n",
      "DATE_POLICE_NOTIFIED\n",
      "02/26/2020 08:30:00 AM    12\n",
      "10/12/2020 04:00:00 PM    12\n",
      "12/01/2023 05:30:00 PM    12\n",
      "07/01/2021 07:00:00 PM    11\n",
      "05/09/2022 05:00:00 PM    11\n",
      "                          ..\n",
      "10/02/2023 10:14:00 AM     1\n",
      "10/17/2023 09:05:00 AM     1\n",
      "12/14/2016 04:45:00 PM     1\n",
      "06/07/2021 07:50:00 AM     1\n",
      "10/23/2019 01:36:00 PM     1\n",
      "Name: count, Length: 675820, dtype: int64\n",
      "--------------------\n",
      "PRIM_CONTRIBUTORY_CAUSE\n",
      "UNABLE TO DETERMINE                                                                 348527\n",
      "FAILING TO YIELD RIGHT-OF-WAY                                                        98545\n",
      "FOLLOWING TOO CLOSELY                                                                86046\n",
      "NOT APPLICABLE                                                                       46818\n",
      "IMPROPER OVERTAKING/PASSING                                                          44489\n",
      "FAILING TO REDUCE SPEED TO AVOID CRASH                                               37547\n",
      "IMPROPER BACKING                                                                     34411\n",
      "IMPROPER LANE USAGE                                                                  31584\n",
      "DRIVING SKILLS/KNOWLEDGE/EXPERIENCE                                                  30214\n",
      "IMPROPER TURNING/NO SIGNAL                                                           29911\n",
      "DISREGARDING TRAFFIC SIGNALS                                                         17444\n",
      "WEATHER                                                                              12665\n",
      "OPERATING VEHICLE IN ERRATIC, RECKLESS, CARELESS, NEGLIGENT OR AGGRESSIVE MANNER     11226\n",
      "DISREGARDING STOP SIGN                                                                9567\n",
      "DISTRACTION - FROM INSIDE VEHICLE                                                     6032\n",
      "EQUIPMENT - VEHICLE CONDITION                                                         5454\n",
      "PHYSICAL CONDITION OF DRIVER                                                          5256\n",
      "VISION OBSCURED (SIGNS, TREE LIMBS, BUILDINGS, ETC.)                                  5056\n",
      "DRIVING ON WRONG SIDE/WRONG WAY                                                       4837\n",
      "UNDER THE INFLUENCE OF ALCOHOL/DRUGS (USE WHEN ARREST IS EFFECTED)                    4149\n",
      "DISTRACTION - FROM OUTSIDE VEHICLE                                                    3577\n",
      "ROAD ENGINEERING/SURFACE/MARKING DEFECTS                                              2112\n",
      "EXCEEDING AUTHORIZED SPEED LIMIT                                                      1956\n",
      "DISREGARDING OTHER TRAFFIC SIGNS                                                      1891\n",
      "ROAD CONSTRUCTION/MAINTENANCE                                                         1868\n",
      "EXCEEDING SAFE SPEED FOR CONDITIONS                                                   1671\n",
      "EVASIVE ACTION DUE TO ANIMAL, OBJECT, NONMOTORIST                                     1609\n",
      "CELL PHONE USE OTHER THAN TEXTING                                                     1179\n",
      "DISREGARDING ROAD MARKINGS                                                            1093\n",
      "HAD BEEN DRINKING (USE WHEN ARREST IS NOT MADE)                                        891\n",
      "ANIMAL                                                                                 763\n",
      "TURNING RIGHT ON RED                                                                   681\n",
      "RELATED TO BUS STOP                                                                    475\n",
      "DISTRACTION - OTHER ELECTRONIC DEVICE (NAVIGATION DEVICE, DVD PLAYER, ETC.)            421\n",
      "TEXTING                                                                                341\n",
      "DISREGARDING YIELD SIGN                                                                277\n",
      "PASSING STOPPED SCHOOL BUS                                                             110\n",
      "OBSTRUCTED CROSSWALKS                                                                   99\n",
      "BICYCLE ADVANCING LEGALLY ON RED LIGHT                                                  86\n",
      "MOTORCYCLE ADVANCING LEGALLY ON RED LIGHT                                               23\n",
      "Name: count, dtype: int64\n",
      "--------------------\n",
      "SEC_CONTRIBUTORY_CAUSE\n",
      "NOT APPLICABLE                                                                      367035\n",
      "UNABLE TO DETERMINE                                                                 321375\n",
      "FAILING TO REDUCE SPEED TO AVOID CRASH                                               32907\n",
      "FAILING TO YIELD RIGHT-OF-WAY                                                        28624\n",
      "DRIVING SKILLS/KNOWLEDGE/EXPERIENCE                                                  27413\n",
      "FOLLOWING TOO CLOSELY                                                                23504\n",
      "IMPROPER OVERTAKING/PASSING                                                          13881\n",
      "IMPROPER LANE USAGE                                                                  12550\n",
      "WEATHER                                                                               9761\n",
      "IMPROPER TURNING/NO SIGNAL                                                            9290\n",
      "IMPROPER BACKING                                                                      7136\n",
      "OPERATING VEHICLE IN ERRATIC, RECKLESS, CARELESS, NEGLIGENT OR AGGRESSIVE MANNER      5495\n",
      "DISREGARDING TRAFFIC SIGNALS                                                          3629\n",
      "VISION OBSCURED (SIGNS, TREE LIMBS, BUILDINGS, ETC.)                                  2771\n",
      "PHYSICAL CONDITION OF DRIVER                                                          2696\n",
      "DISTRACTION - FROM INSIDE VEHICLE                                                     2650\n",
      "DISREGARDING STOP SIGN                                                                2593\n",
      "DRIVING ON WRONG SIDE/WRONG WAY                                                       1881\n",
      "EQUIPMENT - VEHICLE CONDITION                                                         1799\n",
      "EXCEEDING AUTHORIZED SPEED LIMIT                                                      1456\n",
      "DISTRACTION - FROM OUTSIDE VEHICLE                                                    1447\n",
      "UNDER THE INFLUENCE OF ALCOHOL/DRUGS (USE WHEN ARREST IS EFFECTED)                    1446\n",
      "EXCEEDING SAFE SPEED FOR CONDITIONS                                                   1433\n",
      "HAD BEEN DRINKING (USE WHEN ARREST IS NOT MADE)                                       1049\n",
      "ROAD CONSTRUCTION/MAINTENANCE                                                         1021\n",
      "DISREGARDING OTHER TRAFFIC SIGNS                                                       906\n",
      "DISREGARDING ROAD MARKINGS                                                             867\n",
      "ROAD ENGINEERING/SURFACE/MARKING DEFECTS                                               831\n",
      "CELL PHONE USE OTHER THAN TEXTING                                                      667\n",
      "EVASIVE ACTION DUE TO ANIMAL, OBJECT, NONMOTORIST                                      471\n",
      "RELATED TO BUS STOP                                                                    431\n",
      "ANIMAL                                                                                 424\n",
      "TURNING RIGHT ON RED                                                                   350\n",
      "DISTRACTION - OTHER ELECTRONIC DEVICE (NAVIGATION DEVICE, DVD PLAYER, ETC.)            255\n",
      "BICYCLE ADVANCING LEGALLY ON RED LIGHT                                                 226\n",
      "DISREGARDING YIELD SIGN                                                                224\n",
      "TEXTING                                                                                158\n",
      "OBSTRUCTED CROSSWALKS                                                                   98\n",
      "PASSING STOPPED SCHOOL BUS                                                              93\n",
      "MOTORCYCLE ADVANCING LEGALLY ON RED LIGHT                                               58\n",
      "Name: count, dtype: int64\n",
      "--------------------\n",
      "STREET_NAME\n",
      "WESTERN AVE        24536\n",
      "PULASKI RD         21696\n",
      "CICERO AVE         20208\n",
      "ASHLAND AVE        19491\n",
      "HALSTED ST         17349\n",
      "                   ...  \n",
      "ERNST CT               1\n",
      "MCCORMICK BLVD.        1\n",
      "MAC CHESNEY CT         1\n",
      "KINGSDALE AVE          1\n",
      "29TH PL                1\n",
      "Name: count, Length: 1580, dtype: int64\n",
      "--------------------\n",
      "LOCATION\n",
      "POINT (-87.905309125103 41.976201139024)    1431\n",
      "POINT (-87.619928173678 41.900958919109)     814\n",
      "POINT (-87.580147768689 41.791420282098)     627\n",
      "POINT (-87.585971992965 41.751460603167)     613\n",
      "POINT (-87.585275565077 41.722257273006)     488\n",
      "                                            ... \n",
      "POINT (-87.736483481677 41.917324898269)       1\n",
      "POINT (-87.693649134116 42.011191191552)       1\n",
      "POINT (-87.707587592807 41.705496831855)       1\n",
      "POINT (-87.697565391684 41.895761670371)       1\n",
      "POINT (-87.625377942917 41.751045778094)       1\n",
      "Name: count, Length: 318275, dtype: int64\n"
     ]
    }
   ],
   "source": [
    "for col in data.select_dtypes('object').columns:\n",
    "    if (data[col].value_counts().size >30):\n",
    "        print(\"-\"*20)\n",
    "        print(data[col].value_counts())"
   ]
  },
  {
   "cell_type": "markdown",
   "metadata": {},
   "source": [
    "We can get rid of location because longitude and latitude contain the same data"
   ]
  },
  {
   "cell_type": "code",
   "execution_count": 222,
   "metadata": {},
   "outputs": [],
   "source": [
    "data = data.drop(columns=['DATE_POLICE_NOTIFIED', 'STREET_NAME', 'LOCATION'], axis=1)"
   ]
  },
  {
   "cell_type": "code",
   "execution_count": 223,
   "metadata": {},
   "outputs": [],
   "source": [
    "data.drop(columns=['CRASH_DATE'], inplace=True)"
   ]
  },
  {
   "cell_type": "code",
   "execution_count": 224,
   "metadata": {},
   "outputs": [],
   "source": [
    "data.drop(data[data['PRIM_CONTRIBUTORY_CAUSE'] == 'UNABLE TO DETERMINE'].index, axis=0, inplace=True)\n",
    "data.drop(data[data['PRIM_CONTRIBUTORY_CAUSE'] == 'NOT APPLICABLE'].index, axis=0, inplace=True)"
   ]
  },
  {
   "cell_type": "markdown",
   "metadata": {},
   "source": [
    "MODEL"
   ]
  },
  {
   "cell_type": "code",
   "execution_count": 225,
   "metadata": {},
   "outputs": [],
   "source": [
    "X = data.drop(columns=['PRIM_CONTRIBUTORY_CAUSE'])\n",
    "y = data['PRIM_CONTRIBUTORY_CAUSE']"
   ]
  },
  {
   "cell_type": "code",
   "execution_count": 226,
   "metadata": {},
   "outputs": [
    {
     "data": {
      "text/plain": [
       "PRIM_CONTRIBUTORY_CAUSE\n",
       "FAILING TO YIELD RIGHT-OF-WAY                                                       0.198857\n",
       "FOLLOWING TOO CLOSELY                                                               0.173635\n",
       "IMPROPER OVERTAKING/PASSING                                                         0.089776\n",
       "FAILING TO REDUCE SPEED TO AVOID CRASH                                              0.075767\n",
       "IMPROPER BACKING                                                                    0.069439\n",
       "IMPROPER LANE USAGE                                                                 0.063734\n",
       "DRIVING SKILLS/KNOWLEDGE/EXPERIENCE                                                 0.060970\n",
       "IMPROPER TURNING/NO SIGNAL                                                          0.060358\n",
       "DISREGARDING TRAFFIC SIGNALS                                                        0.035201\n",
       "WEATHER                                                                             0.025557\n",
       "OPERATING VEHICLE IN ERRATIC, RECKLESS, CARELESS, NEGLIGENT OR AGGRESSIVE MANNER    0.022653\n",
       "DISREGARDING STOP SIGN                                                              0.019306\n",
       "DISTRACTION - FROM INSIDE VEHICLE                                                   0.012172\n",
       "EQUIPMENT - VEHICLE CONDITION                                                       0.011006\n",
       "PHYSICAL CONDITION OF DRIVER                                                        0.010606\n",
       "VISION OBSCURED (SIGNS, TREE LIMBS, BUILDINGS, ETC.)                                0.010203\n",
       "DRIVING ON WRONG SIDE/WRONG WAY                                                     0.009761\n",
       "UNDER THE INFLUENCE OF ALCOHOL/DRUGS (USE WHEN ARREST IS EFFECTED)                  0.008372\n",
       "DISTRACTION - FROM OUTSIDE VEHICLE                                                  0.007218\n",
       "ROAD ENGINEERING/SURFACE/MARKING DEFECTS                                            0.004262\n",
       "EXCEEDING AUTHORIZED SPEED LIMIT                                                    0.003947\n",
       "DISREGARDING OTHER TRAFFIC SIGNS                                                    0.003816\n",
       "ROAD CONSTRUCTION/MAINTENANCE                                                       0.003770\n",
       "EXCEEDING SAFE SPEED FOR CONDITIONS                                                 0.003372\n",
       "EVASIVE ACTION DUE TO ANIMAL, OBJECT, NONMOTORIST                                   0.003247\n",
       "CELL PHONE USE OTHER THAN TEXTING                                                   0.002379\n",
       "DISREGARDING ROAD MARKINGS                                                          0.002206\n",
       "HAD BEEN DRINKING (USE WHEN ARREST IS NOT MADE)                                     0.001798\n",
       "ANIMAL                                                                              0.001540\n",
       "TURNING RIGHT ON RED                                                                0.001374\n",
       "RELATED TO BUS STOP                                                                 0.000959\n",
       "DISTRACTION - OTHER ELECTRONIC DEVICE (NAVIGATION DEVICE, DVD PLAYER, ETC.)         0.000850\n",
       "TEXTING                                                                             0.000688\n",
       "DISREGARDING YIELD SIGN                                                             0.000559\n",
       "PASSING STOPPED SCHOOL BUS                                                          0.000222\n",
       "OBSTRUCTED CROSSWALKS                                                               0.000200\n",
       "BICYCLE ADVANCING LEGALLY ON RED LIGHT                                              0.000174\n",
       "MOTORCYCLE ADVANCING LEGALLY ON RED LIGHT                                           0.000046\n",
       "Name: proportion, dtype: float64"
      ]
     },
     "execution_count": 226,
     "metadata": {},
     "output_type": "execute_result"
    }
   ],
   "source": [
    "y.value_counts(normalize=True)"
   ]
  },
  {
   "cell_type": "code",
   "execution_count": 227,
   "metadata": {},
   "outputs": [
    {
     "data": {
      "text/plain": [
       "2         Driver Behavior\n",
       "46        Driver Behavior\n",
       "56        Driver Behavior\n",
       "63        Driver Behavior\n",
       "74        Driver Behavior\n",
       "               ...       \n",
       "899384    Driver Behavior\n",
       "899385    Driver Behavior\n",
       "899386    Driver Behavior\n",
       "899387      Environmental\n",
       "899389              Other\n",
       "Name: PRIM_CONTRIBUTORY_CAUSE, Length: 495556, dtype: object"
      ]
     },
     "execution_count": 227,
     "metadata": {},
     "output_type": "execute_result"
    }
   ],
   "source": [
    "cause_mapping = {\n",
    "    # Driver behavior-related causes\n",
    "    'FAILING TO YIELD RIGHT-OF-WAY': 'Driver Behavior',\n",
    "    'FOLLOWING TOO CLOSELY': 'Driver Behavior',\n",
    "    'IMPROPER OVERTAKING/PASSING': 'Driver Behavior',\n",
    "    'FAILING TO REDUCE SPEED TO AVOID CRASH': 'Driver Behavior',\n",
    "    'IMPROPER BACKING': 'Driver Behavior',\n",
    "    'IMPROPER LANE USAGE': 'Driver Behavior',\n",
    "    'DRIVING SKILLS/KNOWLEDGE/EXPERIENCE': 'Driver Behavior',\n",
    "    'IMPROPER TURNING/NO SIGNAL': 'Driver Behavior',\n",
    "    'DISREGARDING TRAFFIC SIGNALS': 'Driver Behavior',\n",
    "    'DISREGARDING STOP SIGN': 'Driver Behavior',\n",
    "    'DISREGARDING YIELD SIGN': 'Driver Behavior',\n",
    "    'DISREGARDING ROAD MARKINGS': 'Driver Behavior',\n",
    "    'DISREGARDING OTHER TRAFFIC SIGNS': 'Driver Behavior',\n",
    "    'EXCEEDING AUTHORIZED SPEED LIMIT': 'Driver Behavior',\n",
    "    'EXCEEDING SAFE SPEED FOR CONDITIONS': 'Driver Behavior',\n",
    "    'DRIVING ON WRONG SIDE/WRONG WAY': 'Driver Behavior',\n",
    "    'TURNING RIGHT ON RED': 'Driver Behavior',\n",
    "    'PASSING STOPPED SCHOOL BUS': 'Driver Behavior',\n",
    "\n",
    "    # Environmental causes\n",
    "    'WEATHER': 'Environmental',\n",
    "    'VISION OBSCURED (SIGNS, TREE LIMBS, BUILDINGS, ETC.)': 'Environmental',\n",
    "    'ROAD ENGINEERING/SURFACE/MARKING DEFECTS': 'Environmental',\n",
    "    'ROAD CONSTRUCTION/MAINTENANCE': 'Environmental',\n",
    "    'EVASIVE ACTION DUE TO ANIMAL, OBJECT, NONMOTORIST': 'Environmental',\n",
    "\n",
    "    # Distraction-related causes\n",
    "    'DISTRACTION - FROM INSIDE VEHICLE': 'Distraction',\n",
    "    'DISTRACTION - FROM OUTSIDE VEHICLE': 'Distraction',\n",
    "    'DISTRACTION - OTHER ELECTRONIC DEVICE (NAVIGATION DEVICE, DVD PLAYER, ETC.)': 'Distraction',\n",
    "    'CELL PHONE USE OTHER THAN TEXTING': 'Distraction',\n",
    "    'TEXTING': 'Distraction',\n",
    "\n",
    "    # Physical and substance-related causes\n",
    "    'UNDER THE INFLUENCE OF ALCOHOL/DRUGS (USE WHEN ARREST IS EFFECTED)': 'Substance-Related',\n",
    "    'HAD BEEN DRINKING (USE WHEN ARREST IS NOT MADE)': 'Substance-Related',\n",
    "    'PHYSICAL CONDITION OF DRIVER': 'Physical Condition',\n",
    "    'OPERATING VEHICLE IN ERRATIC, RECKLESS, CARELESS, NEGLIGENT OR AGGRESSIVE MANNER': 'Driver Behavior',\n",
    "\n",
    "    # Equipment-related causes\n",
    "    'EQUIPMENT - VEHICLE CONDITION': 'Vehicle Issue',\n",
    "\n",
    "    # Uncommon or rare causes\n",
    "    'ANIMAL': 'Other',\n",
    "    'BICYCLE ADVANCING LEGALLY ON RED LIGHT': 'Other',\n",
    "    'MOTORCYCLE ADVANCING LEGALLY ON RED LIGHT': 'Other',\n",
    "    'RELATED TO BUS STOP': 'Other',\n",
    "    'OBSTRUCTED CROSSWALKS': 'Other',\n",
    "\n",
    "    # Uncategorized causes\n",
    "    'UNABLE TO DETERMINE': 'Uncategorized',  # To be dropped\n",
    "    'NOT APPLICABLE': 'Uncategorized',  # To be dropped\n",
    "}\n",
    "\n",
    "y = y.map(cause_mapping)\n",
    "y"
   ]
  },
  {
   "cell_type": "code",
   "execution_count": 228,
   "metadata": {},
   "outputs": [
    {
     "data": {
      "text/plain": [
       "np.float64(0.0)"
      ]
     },
     "execution_count": 228,
     "metadata": {},
     "output_type": "execute_result"
    }
   ],
   "source": [
    "y.isna().mean()"
   ]
  },
  {
   "cell_type": "code",
   "execution_count": 229,
   "metadata": {},
   "outputs": [],
   "source": [
    "X_edited = pd.get_dummies(X, drop_first=True)"
   ]
  },
  {
   "cell_type": "code",
   "execution_count": 230,
   "metadata": {},
   "outputs": [],
   "source": [
    "for col in X_edited.select_dtypes('bool').columns:\n",
    "    X_edited[col] = X_edited[col].astype(int)"
   ]
  },
  {
   "cell_type": "code",
   "execution_count": 231,
   "metadata": {},
   "outputs": [
    {
     "name": "stdout",
     "output_type": "stream",
     "text": [
      "<class 'pandas.core.frame.DataFrame'>\n",
      "Index: 495556 entries, 2 to 899389\n",
      "Columns: 159 entries, POSTED_SPEED_LIMIT to MOST_SEVERE_INJURY_REPORTED, NOT EVIDENT\n",
      "dtypes: float64(11), int64(148)\n",
      "memory usage: 604.9 MB\n"
     ]
    }
   ],
   "source": [
    "X_edited.info()"
   ]
  },
  {
   "cell_type": "code",
   "execution_count": 257,
   "metadata": {},
   "outputs": [],
   "source": [
    "from sklearn.model_selection import train_test_split\n",
    "from sklearn.tree import DecisionTreeClassifier\n",
    "from sklearn.metrics import accuracy_score, confusion_matrix, f1_score, ConfusionMatrixDisplay\n",
    "import matplotlib.pyplot as plt"
   ]
  },
  {
   "cell_type": "code",
   "execution_count": 233,
   "metadata": {},
   "outputs": [],
   "source": [
    "X_train, X_test, y_train, y_test = train_test_split(X_edited, y, test_size=0.25, random_state=42)"
   ]
  },
  {
   "cell_type": "code",
   "execution_count": 234,
   "metadata": {},
   "outputs": [
    {
     "data": {
      "text/plain": [
       "1.0"
      ]
     },
     "execution_count": 234,
     "metadata": {},
     "output_type": "execute_result"
    }
   ],
   "source": [
    "clf = DecisionTreeClassifier()\n",
    "clf.fit(X_train, y_train)\n",
    "train_pred = clf.predict(X_train)\n",
    "acc = accuracy_score(y_train, train_pred)\n",
    "acc"
   ]
  },
  {
   "cell_type": "code",
   "execution_count": 235,
   "metadata": {},
   "outputs": [
    {
     "data": {
      "text/plain": [
       "0.8326808675507914"
      ]
     },
     "execution_count": 235,
     "metadata": {},
     "output_type": "execute_result"
    }
   ],
   "source": [
    "test_pred = clf.predict(X_test)\n",
    "test_acc = accuracy_score(y_test, test_pred)\n",
    "test_acc"
   ]
  },
  {
   "cell_type": "markdown",
   "metadata": {},
   "source": [
    "As you can see, model has overfit. Let's do some feature selection"
   ]
  },
  {
   "cell_type": "code",
   "execution_count": 236,
   "metadata": {},
   "outputs": [
    {
     "data": {
      "text/plain": [
       "1.0"
      ]
     },
     "execution_count": 236,
     "metadata": {},
     "output_type": "execute_result"
    }
   ],
   "source": [
    "clf_fs = DecisionTreeClassifier(criterion='entropy', random_state=42, max_features=5)\n",
    "clf_fs.fit(X_train, y_train)\n",
    "fs_train_pred = clf_fs.predict(X_train)\n",
    "fs_train_acc = accuracy_score(y_train, fs_train_pred)\n",
    "fs_train_acc"
   ]
  },
  {
   "cell_type": "code",
   "execution_count": 237,
   "metadata": {},
   "outputs": [
    {
     "data": {
      "text/plain": [
       "0.8352961118420522"
      ]
     },
     "execution_count": 237,
     "metadata": {},
     "output_type": "execute_result"
    }
   ],
   "source": [
    "fs_test_pred = clf_fs.predict(X_test)\n",
    "fs_test_acc = accuracy_score(y_test, fs_test_pred)\n",
    "fs_test_acc"
   ]
  },
  {
   "cell_type": "code",
   "execution_count": 239,
   "metadata": {},
   "outputs": [
    {
     "name": "stdout",
     "output_type": "stream",
     "text": [
      "                                      Feature  Importance\n",
      "15                                  LONGITUDE    0.066629\n",
      "14                                   LATITUDE    0.066477\n",
      "1                                   STREET_NO    0.064589\n",
      "2                          BEAT_OF_OCCURRENCE    0.061942\n",
      "11                                 CRASH_HOUR    0.057264\n",
      "..                                        ...         ...\n",
      "35                   DEVICE_CONDITION_MISSING    0.000039\n",
      "20          TRAFFIC_CONTROL_DEVICE_NO PASSING    0.000023\n",
      "40  DEVICE_CONDITION_WORN REFLECTIVE MATERIAL    0.000019\n",
      "28    TRAFFIC_CONTROL_DEVICE_RR CROSSING SIGN    0.000017\n",
      "10                           INJURIES_UNKNOWN    0.000000\n",
      "\n",
      "[159 rows x 2 columns]\n"
     ]
    }
   ],
   "source": [
    "feature_importances = pd.DataFrame({\n",
    "    'Feature': X_edited.columns,\n",
    "    'Importance': clf_fs.feature_importances_\n",
    "}).sort_values(by='Importance', ascending=False)\n",
    "\n",
    "print(feature_importances)"
   ]
  },
  {
   "cell_type": "code",
   "execution_count": 160,
   "metadata": {},
   "outputs": [
    {
     "data": {
      "text/html": [
       "<div>\n",
       "<style scoped>\n",
       "    .dataframe tbody tr th:only-of-type {\n",
       "        vertical-align: middle;\n",
       "    }\n",
       "\n",
       "    .dataframe tbody tr th {\n",
       "        vertical-align: top;\n",
       "    }\n",
       "\n",
       "    .dataframe thead th {\n",
       "        text-align: right;\n",
       "    }\n",
       "</style>\n",
       "<table border=\"1\" class=\"dataframe\">\n",
       "  <thead>\n",
       "    <tr style=\"text-align: right;\">\n",
       "      <th></th>\n",
       "      <th>POSTED_SPEED_LIMIT</th>\n",
       "      <th>STREET_NO</th>\n",
       "      <th>BEAT_OF_OCCURRENCE</th>\n",
       "      <th>NUM_UNITS</th>\n",
       "      <th>INJURIES_TOTAL</th>\n",
       "      <th>INJURIES_FATAL</th>\n",
       "      <th>INJURIES_INCAPACITATING</th>\n",
       "      <th>INJURIES_NON_INCAPACITATING</th>\n",
       "      <th>INJURIES_REPORTED_NOT_EVIDENT</th>\n",
       "      <th>INJURIES_NO_INDICATION</th>\n",
       "      <th>...</th>\n",
       "      <th>SEC_CONTRIBUTORY_CAUSE_UNDER THE INFLUENCE OF ALCOHOL/DRUGS (USE WHEN ARREST IS EFFECTED)</th>\n",
       "      <th>SEC_CONTRIBUTORY_CAUSE_VISION OBSCURED (SIGNS, TREE LIMBS, BUILDINGS, ETC.)</th>\n",
       "      <th>SEC_CONTRIBUTORY_CAUSE_WEATHER</th>\n",
       "      <th>STREET_DIRECTION_N</th>\n",
       "      <th>STREET_DIRECTION_S</th>\n",
       "      <th>STREET_DIRECTION_W</th>\n",
       "      <th>MOST_SEVERE_INJURY_INCAPACITATING INJURY</th>\n",
       "      <th>MOST_SEVERE_INJURY_NO INDICATION OF INJURY</th>\n",
       "      <th>MOST_SEVERE_INJURY_NONINCAPACITATING INJURY</th>\n",
       "      <th>MOST_SEVERE_INJURY_REPORTED, NOT EVIDENT</th>\n",
       "    </tr>\n",
       "  </thead>\n",
       "  <tbody>\n",
       "    <tr>\n",
       "      <th>2</th>\n",
       "      <td>30</td>\n",
       "      <td>2101</td>\n",
       "      <td>1235.0</td>\n",
       "      <td>4.0</td>\n",
       "      <td>0.0</td>\n",
       "      <td>0.0</td>\n",
       "      <td>0.0</td>\n",
       "      <td>0.0</td>\n",
       "      <td>0.0</td>\n",
       "      <td>1.0</td>\n",
       "      <td>...</td>\n",
       "      <td>0</td>\n",
       "      <td>0</td>\n",
       "      <td>0</td>\n",
       "      <td>0</td>\n",
       "      <td>1</td>\n",
       "      <td>0</td>\n",
       "      <td>0</td>\n",
       "      <td>1</td>\n",
       "      <td>0</td>\n",
       "      <td>0</td>\n",
       "    </tr>\n",
       "    <tr>\n",
       "      <th>18</th>\n",
       "      <td>10</td>\n",
       "      <td>1320</td>\n",
       "      <td>222.0</td>\n",
       "      <td>2.0</td>\n",
       "      <td>0.0</td>\n",
       "      <td>0.0</td>\n",
       "      <td>0.0</td>\n",
       "      <td>0.0</td>\n",
       "      <td>0.0</td>\n",
       "      <td>2.0</td>\n",
       "      <td>...</td>\n",
       "      <td>0</td>\n",
       "      <td>0</td>\n",
       "      <td>0</td>\n",
       "      <td>0</td>\n",
       "      <td>0</td>\n",
       "      <td>0</td>\n",
       "      <td>0</td>\n",
       "      <td>1</td>\n",
       "      <td>0</td>\n",
       "      <td>0</td>\n",
       "    </tr>\n",
       "    <tr>\n",
       "      <th>19</th>\n",
       "      <td>30</td>\n",
       "      <td>999</td>\n",
       "      <td>1211.0</td>\n",
       "      <td>2.0</td>\n",
       "      <td>0.0</td>\n",
       "      <td>0.0</td>\n",
       "      <td>0.0</td>\n",
       "      <td>0.0</td>\n",
       "      <td>0.0</td>\n",
       "      <td>2.0</td>\n",
       "      <td>...</td>\n",
       "      <td>0</td>\n",
       "      <td>0</td>\n",
       "      <td>0</td>\n",
       "      <td>1</td>\n",
       "      <td>0</td>\n",
       "      <td>0</td>\n",
       "      <td>0</td>\n",
       "      <td>1</td>\n",
       "      <td>0</td>\n",
       "      <td>0</td>\n",
       "    </tr>\n",
       "    <tr>\n",
       "      <th>27</th>\n",
       "      <td>30</td>\n",
       "      <td>3210</td>\n",
       "      <td>1712.0</td>\n",
       "      <td>3.0</td>\n",
       "      <td>0.0</td>\n",
       "      <td>0.0</td>\n",
       "      <td>0.0</td>\n",
       "      <td>0.0</td>\n",
       "      <td>0.0</td>\n",
       "      <td>4.0</td>\n",
       "      <td>...</td>\n",
       "      <td>0</td>\n",
       "      <td>0</td>\n",
       "      <td>0</td>\n",
       "      <td>0</td>\n",
       "      <td>0</td>\n",
       "      <td>1</td>\n",
       "      <td>0</td>\n",
       "      <td>1</td>\n",
       "      <td>0</td>\n",
       "      <td>0</td>\n",
       "    </tr>\n",
       "    <tr>\n",
       "      <th>28</th>\n",
       "      <td>30</td>\n",
       "      <td>7458</td>\n",
       "      <td>731.0</td>\n",
       "      <td>2.0</td>\n",
       "      <td>5.0</td>\n",
       "      <td>0.0</td>\n",
       "      <td>0.0</td>\n",
       "      <td>5.0</td>\n",
       "      <td>0.0</td>\n",
       "      <td>0.0</td>\n",
       "      <td>...</td>\n",
       "      <td>0</td>\n",
       "      <td>0</td>\n",
       "      <td>0</td>\n",
       "      <td>0</td>\n",
       "      <td>1</td>\n",
       "      <td>0</td>\n",
       "      <td>0</td>\n",
       "      <td>0</td>\n",
       "      <td>1</td>\n",
       "      <td>0</td>\n",
       "    </tr>\n",
       "    <tr>\n",
       "      <th>...</th>\n",
       "      <td>...</td>\n",
       "      <td>...</td>\n",
       "      <td>...</td>\n",
       "      <td>...</td>\n",
       "      <td>...</td>\n",
       "      <td>...</td>\n",
       "      <td>...</td>\n",
       "      <td>...</td>\n",
       "      <td>...</td>\n",
       "      <td>...</td>\n",
       "      <td>...</td>\n",
       "      <td>...</td>\n",
       "      <td>...</td>\n",
       "      <td>...</td>\n",
       "      <td>...</td>\n",
       "      <td>...</td>\n",
       "      <td>...</td>\n",
       "      <td>...</td>\n",
       "      <td>...</td>\n",
       "      <td>...</td>\n",
       "      <td>...</td>\n",
       "    </tr>\n",
       "    <tr>\n",
       "      <th>899385</th>\n",
       "      <td>30</td>\n",
       "      <td>6799</td>\n",
       "      <td>2412.0</td>\n",
       "      <td>2.0</td>\n",
       "      <td>1.0</td>\n",
       "      <td>0.0</td>\n",
       "      <td>1.0</td>\n",
       "      <td>0.0</td>\n",
       "      <td>0.0</td>\n",
       "      <td>1.0</td>\n",
       "      <td>...</td>\n",
       "      <td>0</td>\n",
       "      <td>0</td>\n",
       "      <td>0</td>\n",
       "      <td>1</td>\n",
       "      <td>0</td>\n",
       "      <td>0</td>\n",
       "      <td>1</td>\n",
       "      <td>0</td>\n",
       "      <td>0</td>\n",
       "      <td>0</td>\n",
       "    </tr>\n",
       "    <tr>\n",
       "      <th>899386</th>\n",
       "      <td>30</td>\n",
       "      <td>4632</td>\n",
       "      <td>813.0</td>\n",
       "      <td>2.0</td>\n",
       "      <td>0.0</td>\n",
       "      <td>0.0</td>\n",
       "      <td>0.0</td>\n",
       "      <td>0.0</td>\n",
       "      <td>0.0</td>\n",
       "      <td>2.0</td>\n",
       "      <td>...</td>\n",
       "      <td>0</td>\n",
       "      <td>0</td>\n",
       "      <td>0</td>\n",
       "      <td>0</td>\n",
       "      <td>0</td>\n",
       "      <td>1</td>\n",
       "      <td>0</td>\n",
       "      <td>1</td>\n",
       "      <td>0</td>\n",
       "      <td>0</td>\n",
       "    </tr>\n",
       "    <tr>\n",
       "      <th>899387</th>\n",
       "      <td>30</td>\n",
       "      <td>4721</td>\n",
       "      <td>223.0</td>\n",
       "      <td>2.0</td>\n",
       "      <td>1.0</td>\n",
       "      <td>0.0</td>\n",
       "      <td>0.0</td>\n",
       "      <td>1.0</td>\n",
       "      <td>0.0</td>\n",
       "      <td>1.0</td>\n",
       "      <td>...</td>\n",
       "      <td>0</td>\n",
       "      <td>0</td>\n",
       "      <td>0</td>\n",
       "      <td>0</td>\n",
       "      <td>1</td>\n",
       "      <td>0</td>\n",
       "      <td>0</td>\n",
       "      <td>0</td>\n",
       "      <td>1</td>\n",
       "      <td>0</td>\n",
       "    </tr>\n",
       "    <tr>\n",
       "      <th>899388</th>\n",
       "      <td>30</td>\n",
       "      <td>4427</td>\n",
       "      <td>2522.0</td>\n",
       "      <td>2.0</td>\n",
       "      <td>0.0</td>\n",
       "      <td>0.0</td>\n",
       "      <td>0.0</td>\n",
       "      <td>0.0</td>\n",
       "      <td>0.0</td>\n",
       "      <td>1.0</td>\n",
       "      <td>...</td>\n",
       "      <td>0</td>\n",
       "      <td>0</td>\n",
       "      <td>0</td>\n",
       "      <td>0</td>\n",
       "      <td>0</td>\n",
       "      <td>1</td>\n",
       "      <td>0</td>\n",
       "      <td>1</td>\n",
       "      <td>0</td>\n",
       "      <td>0</td>\n",
       "    </tr>\n",
       "    <tr>\n",
       "      <th>899389</th>\n",
       "      <td>30</td>\n",
       "      <td>20</td>\n",
       "      <td>623.0</td>\n",
       "      <td>2.0</td>\n",
       "      <td>2.0</td>\n",
       "      <td>0.0</td>\n",
       "      <td>2.0</td>\n",
       "      <td>0.0</td>\n",
       "      <td>0.0</td>\n",
       "      <td>0.0</td>\n",
       "      <td>...</td>\n",
       "      <td>0</td>\n",
       "      <td>0</td>\n",
       "      <td>0</td>\n",
       "      <td>0</td>\n",
       "      <td>0</td>\n",
       "      <td>1</td>\n",
       "      <td>1</td>\n",
       "      <td>0</td>\n",
       "      <td>0</td>\n",
       "      <td>0</td>\n",
       "    </tr>\n",
       "  </tbody>\n",
       "</table>\n",
       "<p>890901 rows × 159 columns</p>\n",
       "</div>"
      ],
      "text/plain": [
       "        POSTED_SPEED_LIMIT  STREET_NO  BEAT_OF_OCCURRENCE  NUM_UNITS  \\\n",
       "2                       30       2101              1235.0        4.0   \n",
       "18                      10       1320               222.0        2.0   \n",
       "19                      30        999              1211.0        2.0   \n",
       "27                      30       3210              1712.0        3.0   \n",
       "28                      30       7458               731.0        2.0   \n",
       "...                    ...        ...                 ...        ...   \n",
       "899385                  30       6799              2412.0        2.0   \n",
       "899386                  30       4632               813.0        2.0   \n",
       "899387                  30       4721               223.0        2.0   \n",
       "899388                  30       4427              2522.0        2.0   \n",
       "899389                  30         20               623.0        2.0   \n",
       "\n",
       "        INJURIES_TOTAL  INJURIES_FATAL  INJURIES_INCAPACITATING  \\\n",
       "2                  0.0             0.0                      0.0   \n",
       "18                 0.0             0.0                      0.0   \n",
       "19                 0.0             0.0                      0.0   \n",
       "27                 0.0             0.0                      0.0   \n",
       "28                 5.0             0.0                      0.0   \n",
       "...                ...             ...                      ...   \n",
       "899385             1.0             0.0                      1.0   \n",
       "899386             0.0             0.0                      0.0   \n",
       "899387             1.0             0.0                      0.0   \n",
       "899388             0.0             0.0                      0.0   \n",
       "899389             2.0             0.0                      2.0   \n",
       "\n",
       "        INJURIES_NON_INCAPACITATING  INJURIES_REPORTED_NOT_EVIDENT  \\\n",
       "2                               0.0                            0.0   \n",
       "18                              0.0                            0.0   \n",
       "19                              0.0                            0.0   \n",
       "27                              0.0                            0.0   \n",
       "28                              5.0                            0.0   \n",
       "...                             ...                            ...   \n",
       "899385                          0.0                            0.0   \n",
       "899386                          0.0                            0.0   \n",
       "899387                          1.0                            0.0   \n",
       "899388                          0.0                            0.0   \n",
       "899389                          0.0                            0.0   \n",
       "\n",
       "        INJURIES_NO_INDICATION  ...  \\\n",
       "2                          1.0  ...   \n",
       "18                         2.0  ...   \n",
       "19                         2.0  ...   \n",
       "27                         4.0  ...   \n",
       "28                         0.0  ...   \n",
       "...                        ...  ...   \n",
       "899385                     1.0  ...   \n",
       "899386                     2.0  ...   \n",
       "899387                     1.0  ...   \n",
       "899388                     1.0  ...   \n",
       "899389                     0.0  ...   \n",
       "\n",
       "        SEC_CONTRIBUTORY_CAUSE_UNDER THE INFLUENCE OF ALCOHOL/DRUGS (USE WHEN ARREST IS EFFECTED)  \\\n",
       "2                                                       0                                           \n",
       "18                                                      0                                           \n",
       "19                                                      0                                           \n",
       "27                                                      0                                           \n",
       "28                                                      0                                           \n",
       "...                                                   ...                                           \n",
       "899385                                                  0                                           \n",
       "899386                                                  0                                           \n",
       "899387                                                  0                                           \n",
       "899388                                                  0                                           \n",
       "899389                                                  0                                           \n",
       "\n",
       "        SEC_CONTRIBUTORY_CAUSE_VISION OBSCURED (SIGNS, TREE LIMBS, BUILDINGS, ETC.)  \\\n",
       "2                                                       0                             \n",
       "18                                                      0                             \n",
       "19                                                      0                             \n",
       "27                                                      0                             \n",
       "28                                                      0                             \n",
       "...                                                   ...                             \n",
       "899385                                                  0                             \n",
       "899386                                                  0                             \n",
       "899387                                                  0                             \n",
       "899388                                                  0                             \n",
       "899389                                                  0                             \n",
       "\n",
       "        SEC_CONTRIBUTORY_CAUSE_WEATHER  STREET_DIRECTION_N  \\\n",
       "2                                    0                   0   \n",
       "18                                   0                   0   \n",
       "19                                   0                   1   \n",
       "27                                   0                   0   \n",
       "28                                   0                   0   \n",
       "...                                ...                 ...   \n",
       "899385                               0                   1   \n",
       "899386                               0                   0   \n",
       "899387                               0                   0   \n",
       "899388                               0                   0   \n",
       "899389                               0                   0   \n",
       "\n",
       "        STREET_DIRECTION_S  STREET_DIRECTION_W  \\\n",
       "2                        1                   0   \n",
       "18                       0                   0   \n",
       "19                       0                   0   \n",
       "27                       0                   1   \n",
       "28                       1                   0   \n",
       "...                    ...                 ...   \n",
       "899385                   0                   0   \n",
       "899386                   0                   1   \n",
       "899387                   1                   0   \n",
       "899388                   0                   1   \n",
       "899389                   0                   1   \n",
       "\n",
       "        MOST_SEVERE_INJURY_INCAPACITATING INJURY  \\\n",
       "2                                              0   \n",
       "18                                             0   \n",
       "19                                             0   \n",
       "27                                             0   \n",
       "28                                             0   \n",
       "...                                          ...   \n",
       "899385                                         1   \n",
       "899386                                         0   \n",
       "899387                                         0   \n",
       "899388                                         0   \n",
       "899389                                         1   \n",
       "\n",
       "        MOST_SEVERE_INJURY_NO INDICATION OF INJURY  \\\n",
       "2                                                1   \n",
       "18                                               1   \n",
       "19                                               1   \n",
       "27                                               1   \n",
       "28                                               0   \n",
       "...                                            ...   \n",
       "899385                                           0   \n",
       "899386                                           1   \n",
       "899387                                           0   \n",
       "899388                                           1   \n",
       "899389                                           0   \n",
       "\n",
       "        MOST_SEVERE_INJURY_NONINCAPACITATING INJURY  \\\n",
       "2                                                 0   \n",
       "18                                                0   \n",
       "19                                                0   \n",
       "27                                                0   \n",
       "28                                                1   \n",
       "...                                             ...   \n",
       "899385                                            0   \n",
       "899386                                            0   \n",
       "899387                                            1   \n",
       "899388                                            0   \n",
       "899389                                            0   \n",
       "\n",
       "        MOST_SEVERE_INJURY_REPORTED, NOT EVIDENT  \n",
       "2                                              0  \n",
       "18                                             0  \n",
       "19                                             0  \n",
       "27                                             0  \n",
       "28                                             0  \n",
       "...                                          ...  \n",
       "899385                                         0  \n",
       "899386                                         0  \n",
       "899387                                         0  \n",
       "899388                                         0  \n",
       "899389                                         0  \n",
       "\n",
       "[890901 rows x 159 columns]"
      ]
     },
     "execution_count": 160,
     "metadata": {},
     "output_type": "execute_result"
    }
   ],
   "source": [
    "X_edited"
   ]
  },
  {
   "cell_type": "code",
   "execution_count": 240,
   "metadata": {},
   "outputs": [
    {
     "data": {
      "text/plain": [
       "PRIM_CONTRIBUTORY_CAUSE\n",
       "Driver Behavior       0.894954\n",
       "Environmental         0.047038\n",
       "Distraction           0.023307\n",
       "Vehicle Issue         0.011006\n",
       "Physical Condition    0.010606\n",
       "Substance-Related     0.010170\n",
       "Other                 0.002918\n",
       "Name: proportion, dtype: float64"
      ]
     },
     "execution_count": 240,
     "metadata": {},
     "output_type": "execute_result"
    }
   ],
   "source": [
    "y.value_counts(normalize=True)"
   ]
  },
  {
   "cell_type": "code",
   "execution_count": 243,
   "metadata": {},
   "outputs": [],
   "source": [
    "from imblearn.over_sampling import SMOTE"
   ]
  },
  {
   "cell_type": "code",
   "execution_count": null,
   "metadata": {},
   "outputs": [],
   "source": [
    "smote = SMOTE()\n",
    "X_train_resampled, y_train_resampled = smote.fit_resample(X_train, y_train)"
   ]
  },
  {
   "cell_type": "code",
   "execution_count": 246,
   "metadata": {},
   "outputs": [],
   "source": [
    "X_resampled_train, X_resampled_test, y_resampled_train, y_resampled_test = train_test_split(X_resampled, y_resampled, test_size=0.25, random_state=42)"
   ]
  },
  {
   "cell_type": "code",
   "execution_count": null,
   "metadata": {},
   "outputs": [
    {
     "data": {
      "text/plain": [
       "1.0"
      ]
     },
     "execution_count": 249,
     "metadata": {},
     "output_type": "execute_result"
    }
   ],
   "source": [
    "clf_smote = DecisionTreeClassifier(random_state=42)\n",
    "clf_smote.fit(X_train_resampled, y_train_resampled)\n",
    "smote_train_pred = clf_smote.predict(X_train_resampled)\n",
    "smote_train_acc = accuracy_score(y_train_resampled, smote_train_pred)\n",
    "smote_train_acc"
   ]
  },
  {
   "cell_type": "code",
   "execution_count": null,
   "metadata": {},
   "outputs": [
    {
     "data": {
      "text/plain": [
       "0.9506716057336125"
      ]
     },
     "execution_count": 251,
     "metadata": {},
     "output_type": "execute_result"
    }
   ],
   "source": [
    "smote_test_pred = clf_smote.predict(X_test)\n",
    "smote_test_acc = accuracy_score(y_test, smote_test_pred)\n",
    "smote_test_acc"
   ]
  },
  {
   "cell_type": "code",
   "execution_count": 260,
   "metadata": {},
   "outputs": [
    {
     "data": {
      "image/png": "[encoded data removed]",
      "text/plain": [
       "<Figure size 640x480 with 2 Axes>"
      ]
     },
     "metadata": {},
     "output_type": "display_data"
    }
   ],
   "source": [
    "conf_matrix = confusion_matrix(y_resampled_test, smote_test_pred)\n",
    "ConfusionMatrixDisplay(conf_matrix).plot()\n",
    "plt.show()"
   ]
  },
  {
   "cell_type": "code",
   "execution_count": 262,
   "metadata": {},
   "outputs": [
    {
     "data": {
      "text/plain": [
       "np.float64(0.9504410611313109)"
      ]
     },
     "execution_count": 262,
     "metadata": {},
     "output_type": "execute_result"
    }
   ],
   "source": [
    "smote_f1_score = f1_score(y_resampled_test, smote_test_pred, average='weighted')\n",
    "smote_f1_score"
   ]
  },
  {
   "cell_type": "code",
   "execution_count": null,
   "metadata": {},
   "outputs": [],
   "source": []
  }
 ],
 "metadata": {
  "kernelspec": {
   "display_name": "learn-env",
   "language": "python",
   "name": "python3"
  },
  "language_info": {
   "codemirror_mode": {
    "name": "ipython",
    "version": 3
   },
   "file_extension": ".py",
   "mimetype": "text/x-python",
   "name": "python",
   "nbconvert_exporter": "python",
   "pygments_lexer": "ipython3",
   "version": "3.9.19"
  }
 },
 "nbformat": 4,
 "nbformat_minor": 2
}
